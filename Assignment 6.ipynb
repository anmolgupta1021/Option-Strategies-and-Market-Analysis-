{
 "cells": [
  {
   "cell_type": "markdown",
   "id": "ee54205a",
   "metadata": {},
   "source": [
    "## Answer 1\n",
    "\n",
    "\n"
   ]
  },
  {
   "cell_type": "code",
   "execution_count": 2,
   "id": "5e547841",
   "metadata": {},
   "outputs": [],
   "source": [
    "import numpy as np\n",
    "import pandas as pd\n",
    "\n",
    "def construct_diversified_portfolio(assets_returns):\n",
    "    \"\"\"\n",
    "    Constructs a diversified portfolio by selecting assets with the lowest correlation.\n",
    "\n",
    "    Parameters:\n",
    "    - assets_returns: a dictionary where keys are asset names and values are pandas Series of daily returns.\n",
    "\n",
    "    Returns:\n",
    "    - list of asset names selected for the diversified portfolio.\n",
    "    \"\"\"\n",
    "\n",
    "    # 1:  daily returns to a DataFrame\n",
    "    returns_df = pd.DataFrame(assets_returns)\n",
    "\n",
    "    # 2: correlation matrix of daily returns\n",
    "    correlation_matrix = returns_df.corr()\n",
    "\n",
    "    # 3: Select a subset of assets that are least correlated to each other\n",
    "    min_avg_corr = np.inf\n",
    "    best_assets = []\n",
    "\n",
    "    # Iterate through assets\n",
    "    for i in range(len(correlation_matrix.columns)):\n",
    "        for j in range(i+1, len(correlation_matrix.columns)):\n",
    "            asset_i = correlation_matrix.columns[i]\n",
    "            asset_j = correlation_matrix.columns[j]\n",
    "            avg_corr = (correlation_matrix[asset_i][asset_j] + correlation_matrix[asset_j][asset_i]) / 2.0\n",
    "\n",
    "            if avg_corr < min_avg_corr:\n",
    "                min_avg_corr = avg_corr\n",
    "                best_assets = [asset_i, asset_j]\n",
    "\n",
    "    \n",
    "    return best_assets\n"
   ]
  },
  {
   "cell_type": "code",
   "execution_count": 3,
   "id": "73fd7016",
   "metadata": {},
   "outputs": [
    {
     "name": "stdout",
     "output_type": "stream",
     "text": [
      "Selected subset of assets: ['Asset1', 'Asset2']\n"
     ]
    }
   ],
   "source": [
    "# Example usage:\n",
    "if __name__ == \"__main__\":\n",
    "    # Example daily returns data (replace with your actual data)\n",
    "    asset1_returns = pd.Series([0.01, 0.02, -0.01, 0.005, 0.015])\n",
    "    asset2_returns = pd.Series([0.015, -0.01, 0.02, 0.025, -0.005])\n",
    "    asset3_returns = pd.Series([-0.005, 0.01, 0.015, 0.005, -0.01])\n",
    "\n",
    "    assets_returns = {\n",
    "        'Asset1': asset1_returns,\n",
    "        'Asset2': asset2_returns,\n",
    "        'Asset3': asset3_returns\n",
    "    }\n",
    "\n",
    "    selected_assets = construct_diversified_portfolio(assets_returns)\n",
    "    print(\"Selected subset of assets:\", selected_assets)"
   ]
  },
  {
   "cell_type": "markdown",
   "id": "a8cbf243",
   "metadata": {},
   "source": [
    "# Answer 2\n"
   ]
  },
  {
   "cell_type": "code",
   "execution_count": 13,
   "id": "03cbdfb4",
   "metadata": {},
   "outputs": [],
   "source": [
    "import yfinance as yf\n",
    "import pandas as pd\n",
    "import numpy as np\n",
    "\n",
    "def fetch_historical_data(tickers, start_date, end_date):\n",
    "\n",
    "    data = yf.download(tickers, start=start_date, end=end_date)\n",
    "    return data['Adj Close']  # Extract adjusted closing prices\n",
    "\n",
    "def calculate_returns(prices):\n",
    "    \n",
    "    #Calculate daily returns from historical prices.\n",
    "    return prices.pct_change().dropna()\n",
    "\n",
    "def calculate_portfolio_returns(returns, weights):\n",
    "    \"\"\"\n",
    "    Calculate portfolio returns based on given asset returns and weights.\n",
    "    \n",
    "    Parameters:\n",
    "    - returns: pandas DataFrame containing daily returns of assets.\n",
    "    - weights: Dictionary where keys are asset names and values are weights (summing up to 1).\n",
    "    \n",
    "    \"\"\"\n",
    "    portfolio_returns = returns.dot(pd.Series(weights))\n",
    "    return portfolio_returns\n",
    "\n",
    "def calculate_var(portfolio_returns, confidence_level=0.05):\n",
    "    \"\"\"\n",
    "    Parameters:\n",
    "    - portfolio_returns: pandas Series containing portfolio returns.\n",
    "    - confidence_level: Confidence level for VaR calculation, default is 0.05 (95% confidence).   .\n",
    "    \"\"\"\n",
    "    return np.percentile(portfolio_returns, confidence_level * 100)\n",
    "\n",
    "def save_to_csv(data, file_path):    \n",
    "    data.to_csv(file_path)\n",
    "\n",
    "\n"
   ]
  },
  {
   "cell_type": "code",
   "execution_count": 12,
   "id": "b45d476a",
   "metadata": {},
   "outputs": [
    {
     "name": "stderr",
     "output_type": "stream",
     "text": [
      "[*********************100%%**********************]  3 of 3 completed"
     ]
    },
    {
     "name": "stdout",
     "output_type": "stream",
     "text": [
      "Value at Risk (VaR) at 95% confidence level: -1.92%\n",
      "Data saved to historical_data.csv\n"
     ]
    },
    {
     "name": "stderr",
     "output_type": "stream",
     "text": [
      "\n"
     ]
    }
   ],
   "source": [
    "\n",
    "if __name__ == \"__main__\":\n",
    "    tickers = ['AAPL', 'MSFT', 'GOOGL']  # Example t\n",
    "    start_date = '2023-01-01'\n",
    "    end_date = '2023-12-31'\n",
    "    file_path = 'historical_data.csv'  #output file\n",
    "\n",
    "    # 1:fetching of file\n",
    "    data = fetch_historical_data(tickers, start_date, end_date)\n",
    "\n",
    "    # 2: daily returns\n",
    "    returns = calculate_returns(data)\n",
    "\n",
    "    # 3:  portfolio weights (example weights)\n",
    "    weights = {'AAPL': 0.4, 'MSFT': 0.3, 'GOOGL': 0.3}\n",
    "\n",
    "    # 4: portfolio returns\n",
    "    portfolio_returns = calculate_portfolio_returns(returns, weights)\n",
    "\n",
    "    # 5: VaR at 95% confidence level\n",
    "    var_95 = calculate_var(portfolio_returns, confidence_level=0.05)\n",
    "\n",
    "    # Output \n",
    "    print(f\"Value at Risk (VaR) at 95% confidence level: {var_95:.2%}\")\n",
    "\n",
    "    # 6: Save data to CSV\n",
    "    save_to_csv(data, file_path)\n",
    "\n",
    "    print(f\"Data saved to {file_path}\")"
   ]
  },
  {
   "cell_type": "code",
   "execution_count": null,
   "id": "55e2b32e",
   "metadata": {},
   "outputs": [],
   "source": []
  }
 ],
 "metadata": {
  "kernelspec": {
   "display_name": "Python 3 (ipykernel)",
   "language": "python",
   "name": "python3"
  },
  "language_info": {
   "codemirror_mode": {
    "name": "ipython",
    "version": 3
   },
   "file_extension": ".py",
   "mimetype": "text/x-python",
   "name": "python",
   "nbconvert_exporter": "python",
   "pygments_lexer": "ipython3",
   "version": "3.11.4"
  }
 },
 "nbformat": 4,
 "nbformat_minor": 5
}
